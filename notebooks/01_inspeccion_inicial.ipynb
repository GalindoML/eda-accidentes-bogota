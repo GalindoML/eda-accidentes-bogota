{
 "cells": [
  {
   "cell_type": "markdown",
   "id": "78a1ddcd-224e-4193-8262-8253541ec73e",
   "metadata": {},
   "source": [
    "## Leer los datos iniciales\n",
    "Importamos nuestro excel y damos un vistazo a las hojas que tiene"
   ]
  },
  {
   "cell_type": "code",
   "execution_count": 11,
   "id": "ce388bb7-a632-490f-965e-b577093bd960",
   "metadata": {},
   "outputs": [],
   "source": [
    "import pandas as pd\n",
    "\n",
    "xls = pd.ExcelFile('../data/raw/datos-siniestros.xlsx')"
   ]
  },
  {
   "cell_type": "markdown",
   "id": "a55cb1d2-638d-42bd-83d6-e729b4cc2f94",
   "metadata": {},
   "source": [
    "## Exploracion inicial de las hojas del archivo:\n",
    "En esta sección se analiza el número de filas y columnas de cada hoja del Excel, con el fin de distinguir entre hojas con datos reales y aquellas que funcionan como diccionarios o catálogos de referencia."
   ]
  },
  {
   "cell_type": "code",
   "execution_count": 13,
   "id": "fe071daa-c803-48a0-88d5-c82f3c8aa1d9",
   "metadata": {},
   "outputs": [
    {
     "data": {
      "text/html": [
       "<div>\n",
       "<style scoped>\n",
       "    .dataframe tbody tr th:only-of-type {\n",
       "        vertical-align: middle;\n",
       "    }\n",
       "\n",
       "    .dataframe tbody tr th {\n",
       "        vertical-align: top;\n",
       "    }\n",
       "\n",
       "    .dataframe thead th {\n",
       "        text-align: right;\n",
       "    }\n",
       "</style>\n",
       "<table border=\"1\" class=\"dataframe\">\n",
       "  <thead>\n",
       "    <tr style=\"text-align: right;\">\n",
       "      <th></th>\n",
       "      <th>Hoja</th>\n",
       "      <th>Filas</th>\n",
       "      <th>Columnas</th>\n",
       "    </tr>\n",
       "  </thead>\n",
       "  <tbody>\n",
       "    <tr>\n",
       "      <th>0</th>\n",
       "      <td>Campos</td>\n",
       "      <td>24</td>\n",
       "      <td>519</td>\n",
       "    </tr>\n",
       "    <tr>\n",
       "      <th>1</th>\n",
       "      <td>Tabla de Contenido</td>\n",
       "      <td>384</td>\n",
       "      <td>5</td>\n",
       "    </tr>\n",
       "    <tr>\n",
       "      <th>2</th>\n",
       "      <td>Base Consolidada</td>\n",
       "      <td>105</td>\n",
       "      <td>1012</td>\n",
       "    </tr>\n",
       "    <tr>\n",
       "      <th>3</th>\n",
       "      <td>Hoja 2</td>\n",
       "      <td>246</td>\n",
       "      <td>120</td>\n",
       "    </tr>\n",
       "    <tr>\n",
       "      <th>4</th>\n",
       "      <td>Hoja 3</td>\n",
       "      <td>124</td>\n",
       "      <td>3</td>\n",
       "    </tr>\n",
       "    <tr>\n",
       "      <th>5</th>\n",
       "      <td>Actores viales</td>\n",
       "      <td>46</td>\n",
       "      <td>8</td>\n",
       "    </tr>\n",
       "    <tr>\n",
       "      <th>6</th>\n",
       "      <td>Vehículos</td>\n",
       "      <td>46</td>\n",
       "      <td>49</td>\n",
       "    </tr>\n",
       "    <tr>\n",
       "      <th>7</th>\n",
       "      <td>Entorno y vía</td>\n",
       "      <td>46</td>\n",
       "      <td>44</td>\n",
       "    </tr>\n",
       "    <tr>\n",
       "      <th>8</th>\n",
       "      <td>Factores de riesgo</td>\n",
       "      <td>66</td>\n",
       "      <td>5</td>\n",
       "    </tr>\n",
       "  </tbody>\n",
       "</table>\n",
       "</div>"
      ],
      "text/plain": [
       "                 Hoja  Filas  Columnas\n",
       "0              Campos     24       519\n",
       "1  Tabla de Contenido    384         5\n",
       "2    Base Consolidada    105      1012\n",
       "3              Hoja 2    246       120\n",
       "4              Hoja 3    124         3\n",
       "5     Actores viales      46         8\n",
       "6           Vehículos     46        49\n",
       "7       Entorno y vía     46        44\n",
       "8  Factores de riesgo     66         5"
      ]
     },
     "execution_count": 13,
     "metadata": {},
     "output_type": "execute_result"
    }
   ],
   "source": [
    "resumen = []\n",
    "for hoja in xls.sheet_names:\n",
    "    df = pd.read_excel(xls, sheet_name=hoja)\n",
    "    resumen.append({\"Hoja\": hoja, \"Filas\": df.shape[0], \"Columnas\": df.shape[1]})\n",
    "\n",
    "pd.DataFrame(resumen)"
   ]
  },
  {
   "cell_type": "markdown",
   "id": "eb0c24fc-f8d2-4fdc-bf8b-57b3e51731b6",
   "metadata": {},
   "source": [
    "Con esta informacion puedo identificar:\n",
    "\n",
    "Las hojas con pocas filas pero muchas columnas suelen corresponder a diccionarios de datos, donde cada columna representa una variable y las filas contienen sus atributos descriptivos (nombre, tipo, unidades, etc.)\n",
    "\n",
    "#### Localidad (Una de las 519 columnas) tiene solo 20 filas las cuales agrupan todas las localidades existentes, pero no es un dato que describa un caso real en especifico\n",
    "\n",
    "Aquellas hojas que tienen muchas filas pero pocas columnas, suelen ser al reves, aquellas hojas que describen listas de referencia, como tablas de contenido\n",
    "\n",
    "Nos interesan principalmente las hojas que presentan un número significativo tanto de filas como de columnas, ya que son las que probablemente contienen registros reales."
   ]
  },
  {
   "cell_type": "markdown",
   "id": "442536f7-479c-4fc7-a9ca-562bcd4ab738",
   "metadata": {},
   "source": [
    "## Conclusion parcial:\n",
    "-Las hojas 'Campos', 'Tabla de contenido','Actores viales','Vehiculos','Entorno y via' y 'Factores de riesgo' corresponden a diccionarios o catalogos\n",
    "\n",
    "-Las hojas 'Hoja 2' y 'Hoja 3' parecen ser hojas ocultas o auxiliares\n",
    "\n",
    "-La hoja **Base Consolidada** contiene los datos reales de los siniestros y sera la que analicemos de ahora en adelante"
   ]
  }
 ],
 "metadata": {
  "kernelspec": {
   "display_name": "Python 3 (ipykernel)",
   "language": "python",
   "name": "python3"
  },
  "language_info": {
   "codemirror_mode": {
    "name": "ipython",
    "version": 3
   },
   "file_extension": ".py",
   "mimetype": "text/x-python",
   "name": "python",
   "nbconvert_exporter": "python",
   "pygments_lexer": "ipython3",
   "version": "3.12.7"
  }
 },
 "nbformat": 4,
 "nbformat_minor": 5
}
